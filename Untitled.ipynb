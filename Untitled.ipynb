{
 "cells": [
  {
   "cell_type": "code",
   "execution_count": null,
   "id": "ed9ae151-0d4b-4ffd-8b0a-e03dcb3b0e27",
   "metadata": {},
   "outputs": [],
   "source": [
    "import numpy as np\n",
    "import matplotlib.pyplot as plt\n",
    "y = lambda x: .5*x + 3"
   ]
  },
  {
   "cell_type": "code",
   "execution_count": null,
   "id": "059d7535-d3c7-418c-9eb5-64eb43110ec6",
   "metadata": {},
   "outputs": [],
   "source": [
    "x_ = np.linspace(1,10, 20)\n",
    "y_ = np.array([y(x) for x in x_])"
   ]
  },
  {
   "cell_type": "code",
   "execution_count": null,
   "id": "93693d70-0ae9-46d1-9b6d-b0f156a98c36",
   "metadata": {},
   "outputs": [],
   "source": [
    "plt.scatter(x_, y_, marker='x', c='r')\n",
    "plt.show()"
   ]
  }
 ],
 "metadata": {
  "kernelspec": {
   "display_name": "Python 3 (ipykernel)",
   "language": "python",
   "name": "python3"
  },
  "language_info": {
   "codemirror_mode": {
    "name": "ipython",
    "version": 3
   },
   "file_extension": ".py",
   "mimetype": "text/x-python",
   "name": "python",
   "nbconvert_exporter": "python",
   "pygments_lexer": "ipython3",
   "version": "3.12.1"
  }
 },
 "nbformat": 4,
 "nbformat_minor": 5
}
