{
 "cells": [
  {
   "cell_type": "code",
   "execution_count": 8,
   "metadata": {},
   "outputs": [],
   "source": [
    "import numpy as np\n",
    "import matplotlib.pyplot as plt\n",
    "\n",
    "rng = np.random.default_rng()\n",
    "X_TRAIN = np.linspace(0,10)\n",
    "Y_TRAIN = (.3*X_TRAIN+1) + rng.standard_normal(len(X_TRAIN))\n",
    "\n"
   ]
  },
  {
   "cell_type": "code",
   "execution_count": 9,
   "metadata": {},
   "outputs": [],
   "source": [
    "theta0 = np.linspace(-10,10,100)\n",
    "theta1 = np.linspace(-10,10,100)\n",
    "T0, T1 = np.meshgrid(theta0, theta1)\n",
    "def cost(t0, t1):\n",
    "    m = len(X_TRAIN)\n",
    "    return (1/(2*m))*np.sum((t0 + t1*X_TRAIN - Y_TRAIN)**2)"
   ]
  },
  {
   "cell_type": "code",
   "execution_count": 10,
   "metadata": {},
   "outputs": [],
   "source": [
    "J = np.vectorize(cost)(T0, T1)\n",
    "fig = plt.figure()\n",
    "ax = fig.add_subplot(111, projection='3d')\n",
    "surf = ax.plot_surface(T0, T1, J, cmap='viridis')\n",
    "fig.colorbar(surf)\n",
    "plt.show()"
   ]
  }
 ],
 "metadata": {
  "kernelspec": {
   "display_name": "Python 3",
   "language": "python",
   "name": "python3"
  },
  "language_info": {
   "codemirror_mode": {
    "name": "ipython",
    "version": 3
   },
   "file_extension": ".py",
   "mimetype": "text/x-python",
   "name": "python",
   "nbconvert_exporter": "python",
   "pygments_lexer": "ipython3",
   "version": "3.12.1"
  }
 },
 "nbformat": 4,
 "nbformat_minor": 2
}
